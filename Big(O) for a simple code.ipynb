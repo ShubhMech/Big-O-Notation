{
 "cells": [
  {
   "cell_type": "markdown",
   "id": "c0cdc2e8-7328-4374-80cd-9c06282062ec",
   "metadata": {},
   "source": [
    "#### Starting with writing the code:"
   ]
  },
  {
   "cell_type": "code",
   "execution_count": 3,
   "id": "34e73738-31c6-4321-99ea-5fd506d9d9b1",
   "metadata": {},
   "outputs": [],
   "source": [
    "def func(arr): # M(n) Complexity\n",
    "    # Assignment\n",
    "    sum_=0  # O(1) Complexity\n",
    "    product=1  #O(1) Complexity\n",
    "    \n",
    "    # For loop\n",
    "    \n",
    "    for i in arr:  # O(n) Complexity\n",
    "        sum_+= i\n",
    "    for i in arr:  # O(n) Complexity\n",
    "        product *= i\n",
    "        \n",
    "    print(\"The sum and product are:\", sum_, product)   # O(1) Complexity"
   ]
  },
  {
   "cell_type": "code",
   "execution_count": 4,
   "id": "ee08b928-f7ce-457b-938d-e02358b505eb",
   "metadata": {},
   "outputs": [
    {
     "name": "stdout",
     "output_type": "stream",
     "text": [
      "The sum and product are: 55 3628800\n"
     ]
    }
   ],
   "source": [
    "func([1,2,3,4,5,6,7,8,9,10])"
   ]
  },
  {
   "cell_type": "markdown",
   "id": "7dab4ab3-4d91-4a67-9f38-67ecb169b034",
   "metadata": {},
   "source": [
    "## So M(n) equals 2*O(n)"
   ]
  }
 ],
 "metadata": {
  "kernelspec": {
   "display_name": "Python 3",
   "language": "python",
   "name": "python3"
  },
  "language_info": {
   "codemirror_mode": {
    "name": "ipython",
    "version": 3
   },
   "file_extension": ".py",
   "mimetype": "text/x-python",
   "name": "python",
   "nbconvert_exporter": "python",
   "pygments_lexer": "ipython3",
   "version": "3.8.5"
  }
 },
 "nbformat": 4,
 "nbformat_minor": 5
}
