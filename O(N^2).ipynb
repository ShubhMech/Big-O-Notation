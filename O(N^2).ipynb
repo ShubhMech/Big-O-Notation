{
 "cells": [
  {
   "cell_type": "code",
   "execution_count": 34,
   "id": "22c8eb66-07cf-457e-9ee2-68c8b4615570",
   "metadata": {},
   "outputs": [],
   "source": [
    "def func(arr):\n",
    "    result= []\n",
    "    for i in arr:        # O(n) \n",
    "        for j in arr:     # O(n)\n",
    "            result.append(str(i) + \" , \" + str(j))   # O(1)\n",
    "    return result"
   ]
  },
  {
   "cell_type": "code",
   "execution_count": 39,
   "id": "3d1531a1-0bb5-4dc5-a172-dbf3a82dc54e",
   "metadata": {},
   "outputs": [],
   "source": [
    "result=func([1,3,4,5,7,8,9,9,5,4,3,2])"
   ]
  },
  {
   "cell_type": "code",
   "execution_count": 41,
   "id": "c8727c45-e5dd-48ca-9a01-502651ac8807",
   "metadata": {},
   "outputs": [
    {
     "data": {
      "text/plain": [
       "144"
      ]
     },
     "execution_count": 41,
     "metadata": {},
     "output_type": "execute_result"
    }
   ],
   "source": [
    "len(result)"
   ]
  },
  {
   "cell_type": "markdown",
   "id": "e9fef8c8-4cd8-481f-97fa-c96c0488ee39",
   "metadata": {},
   "source": [
    "### We can easily verify that the time complexity in this case is O(N^2)"
   ]
  },
  {
   "cell_type": "code",
   "execution_count": null,
   "id": "1ce95170-df2e-4e10-b2ed-73857dc09a17",
   "metadata": {},
   "outputs": [],
   "source": []
  }
 ],
 "metadata": {
  "kernelspec": {
   "display_name": "Python 3",
   "language": "python",
   "name": "python3"
  },
  "language_info": {
   "codemirror_mode": {
    "name": "ipython",
    "version": 3
   },
   "file_extension": ".py",
   "mimetype": "text/x-python",
   "name": "python",
   "nbconvert_exporter": "python",
   "pygments_lexer": "ipython3",
   "version": "3.8.5"
  }
 },
 "nbformat": 4,
 "nbformat_minor": 5
}
