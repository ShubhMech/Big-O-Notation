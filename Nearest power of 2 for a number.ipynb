{
 "cells": [
  {
   "cell_type": "markdown",
   "id": "6006b53b-df42-495a-95f8-ec377b12a598",
   "metadata": {},
   "source": [
    "### Code to find the nearest power of 2 for a given number using Recursion:"
   ]
  },
  {
   "cell_type": "code",
   "execution_count": 16,
   "id": "06a98f0b-277f-4525-a1d3-e4a97f269d3e",
   "metadata": {},
   "outputs": [
    {
     "name": "stdout",
     "output_type": "stream",
     "text": [
      "22\n"
     ]
    }
   ],
   "source": [
    "i=0\n",
    "\n",
    "def pow_2(n):\n",
    "    \n",
    "    global i\n",
    "    i += 1\n",
    "        \n",
    "    if n==1:\n",
    "        return 1\n",
    "    \n",
    "    else:\n",
    "        return 2*pow_2(int(n/2))\n",
    "    \n",
    "    \n",
    "    \n",
    "pow_2(2167543)\n",
    "print(i)"
   ]
  },
  {
   "cell_type": "code",
   "execution_count": 10,
   "id": "72dc43dd-ac12-4fd0-a31a-ffdb072884c9",
   "metadata": {},
   "outputs": [
    {
     "data": {
      "text/plain": [
       "16"
      ]
     },
     "execution_count": 10,
     "metadata": {},
     "output_type": "execute_result"
    }
   ],
   "source": [
    "pow_2(21)"
   ]
  },
  {
   "cell_type": "code",
   "execution_count": 17,
   "id": "d2175f58-7d12-4c09-ba10-410d078f533f",
   "metadata": {},
   "outputs": [],
   "source": [
    "import math"
   ]
  },
  {
   "cell_type": "code",
   "execution_count": 19,
   "id": "48121166-860d-4a15-aebf-07b5dfac7849",
   "metadata": {},
   "outputs": [
    {
     "data": {
      "text/plain": [
       "21.04762918342707"
      ]
     },
     "execution_count": 19,
     "metadata": {},
     "output_type": "execute_result"
    }
   ],
   "source": [
    "math.log2(2167543)"
   ]
  },
  {
   "cell_type": "markdown",
   "id": "d32f7dfd-d743-41d2-b68f-b295a4444690",
   "metadata": {},
   "source": [
    "## So the complexity is closer to Log of base 2"
   ]
  },
  {
   "cell_type": "code",
   "execution_count": null,
   "id": "322c2dfb-bf81-4496-a547-7d0f25264b00",
   "metadata": {},
   "outputs": [],
   "source": []
  }
 ],
 "metadata": {
  "kernelspec": {
   "display_name": "Python 3",
   "language": "python",
   "name": "python3"
  },
  "language_info": {
   "codemirror_mode": {
    "name": "ipython",
    "version": 3
   },
   "file_extension": ".py",
   "mimetype": "text/x-python",
   "name": "python",
   "nbconvert_exporter": "python",
   "pygments_lexer": "ipython3",
   "version": "3.8.5"
  }
 },
 "nbformat": 4,
 "nbformat_minor": 5
}
