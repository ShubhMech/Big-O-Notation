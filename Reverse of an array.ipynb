{
 "cells": [
  {
   "cell_type": "markdown",
   "id": "6d4278e3-9324-4f69-82f4-e1deaa4b101d",
   "metadata": {},
   "source": [
    "### Code to reverse an array"
   ]
  },
  {
   "cell_type": "code",
   "execution_count": 12,
   "id": "cddea718-62ad-4606-a8d6-9a7b8abdeefb",
   "metadata": {},
   "outputs": [],
   "source": [
    "def reverse(arr):\n",
    "    for i in range(0,len(arr)//2):\n",
    "        temp_1=arr[i]\n",
    "        arr[i]= arr[len(arr)-i-1]\n",
    "        arr[len(arr)-1-i]= temp_1\n",
    "\n"
   ]
  },
  {
   "cell_type": "code",
   "execution_count": 13,
   "id": "178aa652-5371-4cd5-9d8f-a1a785d92a72",
   "metadata": {},
   "outputs": [],
   "source": [
    "arr= [1,2,3,4,5,6,7,8,9,10]"
   ]
  },
  {
   "cell_type": "code",
   "execution_count": 3,
   "id": "0d5d1f68-984f-4211-8556-349b2145ba0f",
   "metadata": {},
   "outputs": [
    {
     "data": {
      "text/plain": [
       "10"
      ]
     },
     "execution_count": 3,
     "metadata": {},
     "output_type": "execute_result"
    }
   ],
   "source": [
    "revers"
   ]
  },
  {
   "cell_type": "code",
   "execution_count": 10,
   "id": "99f53637-1e1f-40f4-9417-7029c42e3724",
   "metadata": {},
   "outputs": [],
   "source": [
    "for i in range(0,len(arr)//2):\n",
    "    temp_1=arr[i]\n",
    "    arr[i]= arr[len(arr)-i-1]\n",
    "    arr[len(arr)-1-i]= temp_1\n",
    "    "
   ]
  },
  {
   "cell_type": "code",
   "execution_count": null,
   "id": "bff4b059-0d11-438a-a32d-0a43ebe7962b",
   "metadata": {},
   "outputs": [],
   "source": []
  }
 ],
 "metadata": {
  "kernelspec": {
   "display_name": "Python 3",
   "language": "python",
   "name": "python3"
  },
  "language_info": {
   "codemirror_mode": {
    "name": "ipython",
    "version": 3
   },
   "file_extension": ".py",
   "mimetype": "text/x-python",
   "name": "python",
   "nbconvert_exporter": "python",
   "pygments_lexer": "ipython3",
   "version": "3.8.5"
  }
 },
 "nbformat": 4,
 "nbformat_minor": 5
}
